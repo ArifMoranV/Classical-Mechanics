{
 "cells": [
  {
   "cell_type": "code",
   "execution_count": 1,
   "id": "2edb4948",
   "metadata": {},
   "outputs": [],
   "source": [
    "import numpy as np\n",
    "import matplotlib.pyplot as plt\n",
    "from scipy.integrate import odeint\n",
    "from scipy.integrate import solve_ivp\n",
    "from matplotlib import animation\n",
    "from mpl_toolkits.mplot3d import Axes3D\n",
    "from matplotlib.animation import PillowWriter"
   ]
  },
  {
   "cell_type": "code",
   "execution_count": 75,
   "id": "ca369cd0",
   "metadata": {},
   "outputs": [],
   "source": [
    "# PARARMS TO CHANGE\n",
    "m1=1\n",
    "m2=3.00273e-6 \n",
    "m3 = 3.165105302e-27\n",
    "\n",
    "MM1=np.array([0,0,0,0,0,0])\n",
    "MM2=np.array([0,-1,0,6.282,0,0])\n",
    "MM3=np.array([0,-1.001,0,6.282,0,0])\n",
    "k=-39"
   ]
  },
  {
   "cell_type": "code",
   "execution_count": 87,
   "id": "8268339e",
   "metadata": {},
   "outputs": [],
   "source": [
    "def dSdt(t, S):\n",
    "    x1,x2,x3,y1,y2,y3,z1,z2,z3,vx1,vx2,vx3,vy1,vy2,vy3,vz1,vz2,vz3 = S\n",
    "    #x1,y1,z1,vx1,vy1,vz1,x2,y2,z2,vx2,vy2,vz2,x3,y3,z3,vx3,vy3,vz3 = S\n",
    "    r12 = np.sqrt((x2-x1)**2 + (y2-y1)**2 + (z2-z1)**2)\n",
    "    r13 = np.sqrt((x3-x1)**2 + (y3-y1)**2 + (z3-z1)**2)\n",
    "    r23 = np.sqrt((x2-x3)**2 + (y2-y3)**2 + (z2-z3)**2)\n",
    "    return [vx1,\n",
    "            vx2,\n",
    "            vx3,\n",
    "            vy1,\n",
    "            vy2,\n",
    "            vy3,\n",
    "            vz1,\n",
    "            vz2,\n",
    "            vz3,\n",
    "            k*m2/r12**3 * (x2-x1) + k*m3/r13**3 * (x3-x1), #mass 1\n",
    "            k*m1/r12**3 * (x1-x2) + k*m3/r23**3 * (x3-x2), #mass 2\n",
    "            k*m1/r13**3 * (x1-x3) + k*m2/r23**3 * (x2-x3),#mass 3\n",
    "            k*m2/r12**3 * (y2-y1) + k*m3/r13**3 * (y3-y1),\n",
    "            k*m1/r12**3 * (y1-y2) + k*m3/r23**3 * (y3-y2),\n",
    "            k*m1/r13**3 * (y1-y3) + k*m2/r23**3 * (y2-y3),\n",
    "            k*m2/r12**3 * (z2-z1) + k*m3/r13**3 * (z3-y1),\n",
    "            k*m1/r12**3 * (z1-z2) + k*m3/r23**3 * (z3-z2),\n",
    "            k*m1/r13**3 * (z1-z3) + k*m2/r23**3 * (z2-z3)\n",
    "           ]"
   ]
  },
  {
   "cell_type": "code",
   "execution_count": 88,
   "id": "b137d005",
   "metadata": {},
   "outputs": [],
   "source": [
    "tf=1\n",
    "t = np.linspace(0,tf, 1000)\n",
    "sol = solve_ivp(dSdt, (0,tf), y0=[MM1[0],MM2[0],MM3[0],MM1[1],MM2[1],MM3[1],MM1[2],MM2[2],MM3[2],\n",
    "                                  MM1[3],MM2[3],MM3[3],MM1[4],MM2[4],MM3[4],MM1[5],MM2[5],MM3[5]],\n",
    "                method = 'DOP853', t_eval=t, rtol=1e-10, atol=1e-23)"
   ]
  },
  {
   "cell_type": "code",
   "execution_count": 89,
   "id": "32deb8cb",
   "metadata": {},
   "outputs": [],
   "source": [
    "\n",
    "\n",
    "t = sol.t\n",
    "x1 = sol.y[0]\n",
    "x2=sol.y[1]\n",
    "x3=sol.y[2]\n",
    "\n",
    "y1=sol.y[3]\n",
    "y2=sol.y[4]\n",
    "y3=sol.y[5]\n",
    "\n",
    "z1=sol.y[6]\n",
    "z2=sol.y[7]\n",
    "z3=sol.y[8]\n",
    "\n",
    "\n"
   ]
  },
  {
   "cell_type": "code",
   "execution_count": 90,
   "id": "87a1d92e",
   "metadata": {},
   "outputs": [
    {
     "data": {
      "text/plain": [
       "[<matplotlib.lines.Line2D at 0x1adea7efa30>]"
      ]
     },
     "execution_count": 90,
     "metadata": {},
     "output_type": "execute_result"
    },
    {
     "data": {
      "image/png": "[encoded data removed]",
      "text/plain": [
       "<Figure size 640x480 with 1 Axes>"
      ]
     },
     "metadata": {},
     "output_type": "display_data"
    }
   ],
   "source": [
    "plt.plot(x2, y2)\n",
    "#plt.plot(x1,y1)\n",
    "#plt.axis('equal')"
   ]
  },
  {
   "cell_type": "code",
   "execution_count": 6,
   "id": "baea9197",
   "metadata": {},
   "outputs": [],
   "source": [
    "tt = 1/np.sqrt(6.67e-11 * 1.99e30 / (1.5e11)**3 ) # seconds\n",
    "tt = tt / (60*60 * 24* 365.25) * np.diff(t)[0] # per time step (in years)"
   ]
  },
  {
   "cell_type": "code",
   "execution_count": null,
   "id": "fa964753",
   "metadata": {},
   "outputs": [],
   "source": [
    "def animate(i):\n",
    "    ln1.set_data([x1[i], x2[i], x3[i]], [y1[i], y2[i], y3[i]])\n",
    "    text.set_text('Time = {:.1f} Years'.format(i*tt))\n",
    "fig, ax = plt.subplots(1,1, figsize=(8,8))\n",
    "ax.grid()\n",
    "ln1, = plt.plot([], [], 'ro', lw=3, markersize=6)\n",
    "text = plt.text(0, 1.75, 'asdasd', fontsize=20, backgroundcolor='white', ha='center')\n",
    "ax.set_ylim(-2, 2)\n",
    "ax.set_xlim(-2,2)\n",
    "ani = animation.FuncAnimation(fig, animate, frames=1000, interval=50)\n",
    "ani.save('plan.gif',writer='pillow',fps=30)"
   ]
  }
 ],
 "metadata": {
  "kernelspec": {
   "display_name": "Python 3 (ipykernel)",
   "language": "python",
   "name": "python3"
  },
  "language_info": {
   "codemirror_mode": {
    "name": "ipython",
    "version": 3
   },
   "file_extension": ".py",
   "mimetype": "text/x-python",
   "name": "python",
   "nbconvert_exporter": "python",
   "pygments_lexer": "ipython3",
   "version": "3.9.6"
  }
 },
 "nbformat": 4,
 "nbformat_minor": 5
}
